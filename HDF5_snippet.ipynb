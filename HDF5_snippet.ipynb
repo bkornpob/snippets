{
 "cells": [
  {
   "cell_type": "markdown",
   "metadata": {},
   "source": [
    "# Snippet for HDF5\n",
    "\n",
    "#### Kornpob Bhirombhakdi: kbhirombhakdi [at] stsci [dot] edu\n",
    "\n",
    "This snippet shows how to operate on HDF5 files. We use h5py package."
   ]
  },
  {
   "cell_type": "code",
   "execution_count": 1,
   "metadata": {},
   "outputs": [],
   "source": [
    "import h5py\n",
    "import numpy as np"
   ]
  },
  {
   "cell_type": "markdown",
   "metadata": {},
   "source": [
    "## Basics\n",
    "\n",
    "HDF5 stands for <font color='orange'>Hierarchical Data Format</font>. A HDF5 file typically has <font color='orange'>.h5 or .hdf5</font> extension.\n",
    "\n",
    "Information in HDF5 composes of <font color='orange'>Groups, Datasets, and Attributes.</font> A Group is a folder containing information. A Dataset is a numpy array of data. For each Group or Dataset, and the HDF5 file, Attributes are metadata describing them. Therefore, schematically, a HDF5 file is structured as: <font color='orange'>(file.h5: Attributes) $\\rightarrow$ many {(Group: Attributes), (Dataset: Attributes)}</font> $\\rightarrow$ many {(Group: Attributes), (Dataset: Attributes)} $\\rightarrow$ and so on.\n",
    "\n",
    "<font color='orange'>HDFView</font> is a free GUI software that can be used for operating HDF5 files."
   ]
  },
  {
   "cell_type": "markdown",
   "metadata": {},
   "source": [
    "## Write a HDF5 file"
   ]
  },
  {
   "cell_type": "code",
   "execution_count": 2,
   "metadata": {},
   "outputs": [],
   "source": [
    "!rm './test.h5' # remove the existing file\n",
    "\n",
    "x = h5py.File('./test.h5', 'w') # create a HDF5 file from scratch\n",
    "\n",
    "x.attrs['attrs1'] = '123' # create the file's attributes\n",
    "\n",
    "x.create_group('group1') # create a group\n",
    "x['group1'].attrs['attrs2'] = '456' # create an attribute of a group\n",
    "\n",
    "x.create_dataset('dataset1'\n",
    "                 , data=np.random.random_sample(size=(10,5))\n",
    "                 , dtype='float64') # create a dataset at root\n",
    "x['dataset1'].attrs['attrs3'] = '789' # create the dataset's attributes\n",
    "\n",
    "x['group1'].create_dataset('dataset2'\n",
    "                           , data=np.random.random_sample(size=(5,2))\n",
    "                           , dtype='float64') # create a dataset in a group\n",
    "\n",
    "x.close() # close the file"
   ]
  },
  {
   "cell_type": "markdown",
   "metadata": {},
   "source": [
    "## Read"
   ]
  },
  {
   "cell_type": "code",
   "execution_count": 3,
   "metadata": {},
   "outputs": [
    {
     "name": "stdout",
     "output_type": "stream",
     "text": [
      "File's attributes:  <KeysViewHDF5 ['attrs1']>\n",
      "123\n",
      "#################################\n",
      "File's objects:  <KeysViewHDF5 ['dataset1', 'group1']>\n",
      "#################################\n",
      "<KeysViewHDF5 ['attrs3']>\n",
      "[[0.21650683 0.16904489 0.45770083 0.92371047 0.52116551]\n",
      " [0.63930414 0.99667139 0.11047377 0.12729058 0.73707412]\n",
      " [0.70042789 0.42432268 0.96307696 0.58687771 0.36471726]\n",
      " [0.66515653 0.33969977 0.02072865 0.80874734 0.09299391]\n",
      " [0.8846647  0.85431128 0.30457131 0.90445188 0.78008685]\n",
      " [0.41711827 0.74956029 0.38429253 0.19425888 0.66459913]\n",
      " [0.55017959 0.21366811 0.38940415 0.69122118 0.3319481 ]\n",
      " [0.57539718 0.23914961 0.56327444 0.514589   0.09942183]\n",
      " [0.73311367 0.69936805 0.23025088 0.10757085 0.97525942]\n",
      " [0.4115406  0.76299992 0.66351388 0.70511008 0.35093854]]\n",
      "#################################\n",
      "<KeysViewHDF5 ['attrs2']>\n",
      "<KeysViewHDF5 ['dataset2']>\n"
     ]
    }
   ],
   "source": [
    "x = h5py.File('./test.h5', 'r') # read a HDF5 file\n",
    "\n",
    "print(\"File's attributes: \", x.attrs.keys()) # show keys of the file's attributes\n",
    "print(x.attrs['attrs1']) # show the file's attributes given keys\n",
    "print('#################################')\n",
    "\n",
    "print(\"File's objects: \", x.keys()) # show the file's objects (i.e., Groups and Datasets)\n",
    "print('#################################')\n",
    "\n",
    "print(x['dataset1'].attrs.keys()) # accessing a dataset's attributes\n",
    "print(x['dataset1'][:]) # accessing a dataset's data\n",
    "print('#################################')\n",
    "\n",
    "print(x['group1'].attrs.keys()) # accessing a group's attributes\n",
    "print(x['group1'].keys()) # accessing a group's objects\n",
    "\n",
    "x.close() # close the file"
   ]
  }
 ],
 "metadata": {
  "kernelspec": {
   "display_name": "Python 3",
   "language": "python",
   "name": "python3"
  },
  "language_info": {
   "codemirror_mode": {
    "name": "ipython",
    "version": 3
   },
   "file_extension": ".py",
   "mimetype": "text/x-python",
   "name": "python",
   "nbconvert_exporter": "python",
   "pygments_lexer": "ipython3",
   "version": "3.6.9"
  }
 },
 "nbformat": 4,
 "nbformat_minor": 2
}
